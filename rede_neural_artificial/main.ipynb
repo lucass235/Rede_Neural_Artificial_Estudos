{
 "cells": [
  {
   "attachments": {},
   "cell_type": "markdown",
   "metadata": {},
   "source": [
    "## Rede Neural artificial\n",
    "\n",
    "- Rede neural que verifica em uma base de dados que contem a idade de varias pessoas e de acordo com isso ela tenta decidir se a pessoa tem maior probabilidade de aceitar um seguro ou não."
   ]
  },
  {
   "cell_type": "code",
   "execution_count": 2,
   "metadata": {},
   "outputs": [],
   "source": [
    "import numpy as np\n",
    "import matplotlib.pyplot as plt\n",
    "\n",
    "np.random.seed(42) # para gerar os mesmos números aleatórios\n",
    "ages = np.random.randint(low=15, high=70, size=40) # 40 pessoas entre 15 e 70 anos"
   ]
  },
  {
   "cell_type": "code",
   "execution_count": 3,
   "metadata": {},
   "outputs": [
    {
     "data": {
      "text/plain": [
       "array([53, 66, 43, 29, 57, 22, 35, 53, 33, 37, 25, 25, 38, 67, 50, 54, 38,\n",
       "       17, 36, 67, 16, 38, 58, 44, 52, 16, 35, 47, 26, 36, 58, 39, 63, 41,\n",
       "       56, 42, 30, 29, 61, 65])"
      ]
     },
     "execution_count": 3,
     "metadata": {},
     "output_type": "execute_result"
    }
   ],
   "source": [
    "ages"
   ]
  },
  {
   "cell_type": "code",
   "execution_count": 4,
   "metadata": {},
   "outputs": [],
   "source": [
    "labels = [] # lista de rótulos (0 ou 1) para cada pessoa.\n",
    "for age in ages:\n",
    "    if age < 30:\n",
    "        labels.append(0) # Menos probabiliza de ter o seguro\n",
    "    else:\n",
    "        labels.append(1) # Mais probabiliza de ter o seguro"
   ]
  },
  {
   "cell_type": "code",
   "execution_count": 5,
   "metadata": {},
   "outputs": [],
   "source": [
    "# Embaralhar mais os dados, pegando 3 pessoas aleatórias e trocando seus rótulos\n",
    "for i in range(0, 3):\n",
    "    r = np.random.randint(0, len(labels) - 1)\n",
    "    if labels[r] == 0:\n",
    "        labels[r] = 1\n",
    "    else:\n",
    "        labels[r] = 0    "
   ]
  },
  {
   "cell_type": "code",
   "execution_count": 6,
   "metadata": {},
   "outputs": [
    {
     "data": {
      "image/png": "[encoded data removed]",
      "text/plain": [
       "<Figure size 432x288 with 1 Axes>"
      ]
     },
     "metadata": {
      "needs_background": "light"
     },
     "output_type": "display_data"
    }
   ],
   "source": [
    "# Plotar os dados em um gráfico de dispersão\n",
    "plt.scatter(ages, labels, color='red')\n",
    "plt.show()"
   ]
  },
  {
   "cell_type": "code",
   "execution_count": 7,
   "metadata": {},
   "outputs": [
    {
     "data": {
      "text/plain": [
       "LinearRegression()"
      ]
     },
     "execution_count": 7,
     "metadata": {},
     "output_type": "execute_result"
    }
   ],
   "source": [
    "# predição com regressão linear\n",
    "import numpy as np\n",
    "from sklearn.linear_model import LinearRegression\n",
    "\n",
    "model = LinearRegression()\n",
    "model.fit(ages.reshape(-1, 1), labels)"
   ]
  },
  {
   "cell_type": "code",
   "execution_count": 8,
   "metadata": {},
   "outputs": [
    {
     "data": {
      "text/plain": [
       "(0.022566752303713265, -0.2573944664850353)"
      ]
     },
     "execution_count": 8,
     "metadata": {},
     "output_type": "execute_result"
    }
   ],
   "source": [
    "# Equação da reta: y = m.x + b\n",
    "m = model.coef_[0] # coeficiente angular (inclinação)\n",
    "b = model.intercept_ # coeficiente linear (intercepto)\n",
    "\n",
    "m, b"
   ]
  },
  {
   "attachments": {},
   "cell_type": "markdown",
   "metadata": {},
   "source": [
    "- Gerar animação para mostrar o ajuste da reta de regressão linear."
   ]
  },
  {
   "cell_type": "code",
   "execution_count": 9,
   "metadata": {},
   "outputs": [
    {
     "name": "stderr",
     "output_type": "stream",
     "text": [
      "MovieWriter ffmpeg unavailable; using Pillow instead.\n"
     ]
    },
    {
     "data": {
      "text/html": [
       "\n",
       "<div align=\"middle\">\n",
       "<img width=\"80%\" controls>\n",
       "      <source src=\"m.png\" type=\"video/mp4\">\n",
       "</img></div>"
      ],
      "text/plain": [
       "<IPython.core.display.HTML object>"
      ]
     },
     "execution_count": 9,
     "metadata": {},
     "output_type": "execute_result"
    },
    {
     "data": {
      "image/png": "[encoded data removed]",
      "text/plain": [
       "<Figure size 432x288 with 2 Axes>"
      ]
     },
     "metadata": {
      "needs_background": "light"
     },
     "output_type": "display_data"
    }
   ],
   "source": [
    "from matplotlib.animation import FuncAnimation\n",
    "from IPython.display import HTML\n",
    "\n",
    "fig, ax = plt.subplots()\n",
    "\n",
    "# marking the x-axis and y-axis  \n",
    "axis = plt.axes(xlim =(0, 2),  \n",
    "                ylim =(-0.1, 2))\n",
    "\n",
    "# initializing a line variable  \n",
    "line, = axis.plot([], [], lw = 3)  \n",
    "\n",
    "# data which the line will  \n",
    "# contain (x, y)  \n",
    "def init():  \n",
    "    line.set_data([], [])  \n",
    "    return line,  \n",
    "\n",
    "def animate(i):\n",
    "    m_copy = i * 0.01\n",
    "    plt.title('m = ' + str(m_copy))\n",
    "    x = np.arange(0.0, 10.0, 0.1)\n",
    "    y = m_copy * x + b\n",
    "    line.set_data(x, y)  \n",
    "\n",
    "    return line,\n",
    "\n",
    "ani = FuncAnimation(fig, animate, init_func = init,  \n",
    "                    frames = 200,  \n",
    "                    interval = 20,  \n",
    "                    blit = True)\n",
    "\n",
    "ani.save('m.png', writer = 'ffmpeg', fps = 30) \n",
    "\n",
    "\n",
    "HTML(\"\"\"\n",
    "<div align=\"middle\">\n",
    "<img width=\"80%\" controls>\n",
    "      <source src=\"m.png\" type=\"video/mp4\">\n",
    "</img></div>\"\"\")       "
   ]
  },
  {
   "attachments": {},
   "cell_type": "markdown",
   "metadata": {},
   "source": [
    "- Regressão liner dos pontos obtidos (m e b)"
   ]
  },
  {
   "cell_type": "code",
   "execution_count": 10,
   "metadata": {},
   "outputs": [
    {
     "data": {
      "image/png": "[encoded data removed]",
      "text/plain": [
       "<Figure size 432x288 with 1 Axes>"
      ]
     },
     "metadata": {
      "needs_background": "light"
     },
     "output_type": "display_data"
    }
   ],
   "source": [
    "plt.plot(ages, ages * m + b, color='blue')\n",
    "plt.scatter(ages, labels, color='red')\n",
    "plt.show()"
   ]
  },
  {
   "attachments": {},
   "cell_type": "markdown",
   "metadata": {},
   "source": [
    "* 0.5 = m.x + b\n",
    "* 0.5 - b = m.x\n",
    "* (0.5 - b) / m = x"
   ]
  },
  {
   "cell_type": "code",
   "execution_count": 11,
   "metadata": {},
   "outputs": [
    {
     "data": {
      "image/png": "[encoded data removed]",
      "text/plain": [
       "<Figure size 432x288 with 1 Axes>"
      ]
     },
     "metadata": {
      "needs_background": "light"
     },
     "output_type": "display_data"
    }
   ],
   "source": [
    "limiar_idade = (0.5 - b) / m\n",
    "limiar_idade\n",
    "\n",
    "plt.plot(ages, ages * m + b, color='blue')\n",
    "plt.plot([limiar_idade, limiar_idade], [0, 0.5],'--', color='green')\n",
    "plt.scatter(ages, labels, color='red')\n",
    "plt.show()\n"
   ]
  },
  {
   "attachments": {},
   "cell_type": "markdown",
   "metadata": {},
   "source": [
    "- Função logística"
   ]
  },
  {
   "cell_type": "code",
   "execution_count": 12,
   "metadata": {},
   "outputs": [
    {
     "data": {
      "image/png": "[encoded data removed]",
      "text/plain": [
       "<Figure size 432x288 with 1 Axes>"
      ]
     },
     "metadata": {
      "needs_background": "light"
     },
     "output_type": "display_data"
    }
   ],
   "source": [
    "import math\n",
    "def sigmoid(x):\n",
    "    a = []\n",
    "    for item in x:\n",
    "        a.append(1 / (1 + math.exp(-item)))\n",
    "    return a\n",
    "\n",
    "x = np.arange(-10., 10., 0.2)\n",
    "sig = sigmoid(x)\n",
    "\n",
    "plt.plot(x,sig)\n",
    "plt.show()\n"
   ]
  },
  {
   "attachments": {},
   "cell_type": "markdown",
   "metadata": {},
   "source": [
    "- Classificador sigmoidal"
   ]
  },
  {
   "cell_type": "code",
   "execution_count": 13,
   "metadata": {},
   "outputs": [
    {
     "name": "stdout",
     "output_type": "stream",
     "text": [
      "33.331480587172706\n"
     ]
    },
    {
     "data": {
      "text/plain": [
       "[<matplotlib.lines.Line2D at 0x19deae13dc0>]"
      ]
     },
     "execution_count": 13,
     "metadata": {},
     "output_type": "execute_result"
    },
    {
     "data": {
      "image/png": "[encoded data removed]",
      "text/plain": [
       "<Figure size 432x288 with 1 Axes>"
      ]
     },
     "metadata": {
      "needs_background": "light"
     },
     "output_type": "display_data"
    }
   ],
   "source": [
    "from sklearn.linear_model import LogisticRegression\n",
    "\n",
    "model = LogisticRegression()\n",
    "model.fit(ages.reshape(-1, 1), labels)\n",
    "\n",
    "m = model.coef_[0][0]\n",
    "b = model.intercept_[0]\n",
    "\n",
    "x = np.arange(0, 70, 0.1)\n",
    "sig = sigmoid(x * m + b)\n",
    "\n",
    "limiar_idade = abs(b / m)\n",
    "print(limiar_idade)\n",
    "\n",
    "plt.scatter(ages, labels, color='red')\n",
    "plt.plot([limiar_idade, limiar_idade], [0, 0.5],'--', color='green')\n",
    "plt.plot(x, sig)\n",
    "\n",
    "\n"
   ]
  }
 ],
 "metadata": {
  "kernelspec": {
   "display_name": "base",
   "language": "python",
   "name": "python3"
  },
  "language_info": {
   "codemirror_mode": {
    "name": "ipython",
    "version": 3
   },
   "file_extension": ".py",
   "mimetype": "text/x-python",
   "name": "python",
   "nbconvert_exporter": "python",
   "pygments_lexer": "ipython3",
   "version": "3.9.12"
  },
  "orig_nbformat": 4,
  "vscode": {
   "interpreter": {
    "hash": "665796ea3363072d3a6057ac2fdbe3c4fcb0d17a4b92295d9707f78e9c46c0af"
   }
  }
 },
 "nbformat": 4,
 "nbformat_minor": 2
}
